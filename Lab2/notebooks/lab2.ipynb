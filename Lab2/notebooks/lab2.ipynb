{
  "nbformat": 4,
  "nbformat_minor": 0,
  "metadata": {
    "colab": {
      "name": "lab2.ipynb",
      "provenance": [],
      "collapsed_sections": []
    },
    "kernelspec": {
      "name": "python3",
      "display_name": "Python 3"
    }
  },
  "cells": [
    {
      "cell_type": "markdown",
      "metadata": {
        "id": "PluGWsFJcF0z"
      },
      "source": [
        "# Image Processing Laboratory -  Practice Lab 2\r\n",
        "## DFT Computation"
      ]
    },
    {
      "cell_type": "markdown",
      "metadata": {
        "id": "7Glh_1-ycZYP"
      },
      "source": [
        "We start by importing numpy, a python library that deals with numbers and has high compatibility with matrices."
      ]
    },
    {
      "cell_type": "code",
      "metadata": {
        "id": "mAt1s2mJu8G7"
      },
      "source": [
        "import numpy as np"
      ],
      "execution_count": 67,
      "outputs": []
    },
    {
      "cell_type": "markdown",
      "metadata": {
        "id": "RFu_sKo5ZZIs"
      },
      "source": [
        "We initialize the 2 arrays with zeros, each entry having a datatype complex, indicating that the matrix contains complex number elements."
      ]
    },
    {
      "cell_type": "code",
      "metadata": {
        "id": "FhpZDGCbNcph"
      },
      "source": [
        "fft_basis = np.zeros((4,4), dtype=complex)\r\n",
        "ift_basis = np.zeros((4,4), dtype=complex)"
      ],
      "execution_count": 62,
      "outputs": []
    },
    {
      "cell_type": "markdown",
      "metadata": {
        "id": "rAnEzP6WdtuB"
      },
      "source": [
        "### Q1. Compute the basis vectors of the forward 1D DFT for N=4"
      ]
    },
    {
      "cell_type": "markdown",
      "metadata": {
        "id": "tC6J4P5kd6vE"
      },
      "source": [
        "For each n and k in (0, N) and (0, N) we find the basis value\r\n",
        "\r\n",
        "```\r\n",
        "exp(-j 2pi kn/N)\r\n",
        "```\r\n",
        "this 2D matrix is the required basis vector\r\n"
      ]
    },
    {
      "cell_type": "code",
      "metadata": {
        "colab": {
          "base_uri": "https://localhost:8080/"
        },
        "id": "tmKDfSvUby5O",
        "outputId": "b6726817-bd2d-4ba8-e9b3-f0ce20d0ab11"
      },
      "source": [
        "for n in range(4):\r\n",
        "  for k in range(4):\r\n",
        "    fft_basis[n][k] = np.exp(-1j*2*np.pi*k*n/4)\r\n",
        "print(fft_basis)"
      ],
      "execution_count": 63,
      "outputs": [
        {
          "output_type": "stream",
          "text": [
            "[[ 1.0000000e+00+0.0000000e+00j  1.0000000e+00+0.0000000e+00j\n",
            "   1.0000000e+00+0.0000000e+00j  1.0000000e+00+0.0000000e+00j]\n",
            " [ 1.0000000e+00+0.0000000e+00j  6.1232340e-17-1.0000000e+00j\n",
            "  -1.0000000e+00-1.2246468e-16j -1.8369702e-16+1.0000000e+00j]\n",
            " [ 1.0000000e+00+0.0000000e+00j -1.0000000e+00-1.2246468e-16j\n",
            "   1.0000000e+00+2.4492936e-16j -1.0000000e+00-3.6739404e-16j]\n",
            " [ 1.0000000e+00+0.0000000e+00j -1.8369702e-16+1.0000000e+00j\n",
            "  -1.0000000e+00-3.6739404e-16j  5.5109106e-16-1.0000000e+00j]]\n"
          ],
          "name": "stdout"
        }
      ]
    },
    {
      "cell_type": "markdown",
      "metadata": {
        "id": "P_OTmIERfa4y"
      },
      "source": [
        "### Q2. Compute the basis vectors of the inverse 1D DFT for N=4\r\n"
      ]
    },
    {
      "cell_type": "markdown",
      "metadata": {
        "id": "R_p2VbGufevj"
      },
      "source": [
        "Similar to the above case, \r\n",
        "For each n and k in (0, N) and (0, N) we find the basis value\r\n",
        "\r\n",
        "```\r\n",
        "exp(+j 2pi kn/N)\r\n",
        "```\r\n",
        "this 2D matrix is the required basis vector\r\n"
      ]
    },
    {
      "cell_type": "code",
      "metadata": {
        "colab": {
          "base_uri": "https://localhost:8080/"
        },
        "id": "FdiMrcHkb5b5",
        "outputId": "dcae1c19-da48-4373-ff0f-f0d92aeba0fb"
      },
      "source": [
        "for n in range(4):\r\n",
        "  for k in range(4):\r\n",
        "    ift_basis[n][k] = np.exp(1j*2*np.pi*k*n/4)\r\n",
        "print(ift_basis)"
      ],
      "execution_count": 65,
      "outputs": [
        {
          "output_type": "stream",
          "text": [
            "[[ 1.0000000e+00+0.0000000e+00j  1.0000000e+00+0.0000000e+00j\n",
            "   1.0000000e+00+0.0000000e+00j  1.0000000e+00+0.0000000e+00j]\n",
            " [ 1.0000000e+00+0.0000000e+00j  6.1232340e-17+1.0000000e+00j\n",
            "  -1.0000000e+00+1.2246468e-16j -1.8369702e-16-1.0000000e+00j]\n",
            " [ 1.0000000e+00+0.0000000e+00j -1.0000000e+00+1.2246468e-16j\n",
            "   1.0000000e+00-2.4492936e-16j -1.0000000e+00+3.6739404e-16j]\n",
            " [ 1.0000000e+00+0.0000000e+00j -1.8369702e-16-1.0000000e+00j\n",
            "  -1.0000000e+00+3.6739404e-16j  5.5109106e-16+1.0000000e+00j]]\n"
          ],
          "name": "stdout"
        }
      ]
    },
    {
      "cell_type": "markdown",
      "metadata": {
        "id": "mRcHoBVzfoIV"
      },
      "source": [
        "### Q3. Consider a sequence ```f(x) = [2, 3, 4, 4]```. Find the DFT of f(x)."
      ]
    },
    {
      "cell_type": "markdown",
      "metadata": {
        "id": "SDgMwOhufq8d"
      },
      "source": [
        "Finally, using the given f(x) and the basis vector we found, we can calculate the fft using\r\n",
        "\r\n",
        "\r\n",
        "```\r\n",
        "F(x) = B.f(x)\r\n",
        "```\r\n",
        "where f is the column vector of the given discrete function and B is the basis vector and . is the dot operator for matrix multiplication\r\n"
      ]
    },
    {
      "cell_type": "code",
      "metadata": {
        "colab": {
          "base_uri": "https://localhost:8080/"
        },
        "id": "RQX4jm7NTxxD",
        "outputId": "c4982dac-fd37-4a80-ad77-d8cfef1c4fd5"
      },
      "source": [
        "f = [2, 3, 4, 4]\r\n",
        "\r\n",
        "print(np.dot(fft_basis, np.transpose(f)))"
      ],
      "execution_count": 68,
      "outputs": [
        {
          "output_type": "stream",
          "text": [
            "[13.+0.00000000e+00j -2.+1.00000000e+00j -1.-8.57252759e-16j\n",
            " -2.-1.00000000e+00j]\n"
          ],
          "name": "stdout"
        }
      ]
    },
    {
      "cell_type": "markdown",
      "metadata": {
        "id": "hb_Sr8kUgFUP"
      },
      "source": [
        "Finally, to verify the calculated values, we use the built in function from numpy"
      ]
    },
    {
      "cell_type": "code",
      "metadata": {
        "colab": {
          "base_uri": "https://localhost:8080/"
        },
        "id": "A2u_FpF_ZiQ2",
        "outputId": "168e130b-6c6e-45a0-eff3-795a85ea0ded"
      },
      "source": [
        "np.fft.fft(f)"
      ],
      "execution_count": 69,
      "outputs": [
        {
          "output_type": "execute_result",
          "data": {
            "text/plain": [
              "array([13.+0.j, -2.+1.j, -1.+0.j, -2.-1.j])"
            ]
          },
          "metadata": {
            "tags": []
          },
          "execution_count": 69
        }
      ]
    }
  ]
}