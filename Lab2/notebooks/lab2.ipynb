{
  "nbformat": 4,
  "nbformat_minor": 0,
  "metadata": {
    "colab": {
      "name": "lab2.ipynb",
      "provenance": [],
      "collapsed_sections": []
    },
    "kernelspec": {
      "name": "python3",
      "display_name": "Python 3"
    }
  },
  "cells": [
    {
      "cell_type": "markdown",
      "metadata": {
        "id": "PluGWsFJcF0z"
      },
      "source": [
        "# Image Processing Laboratory -  Practice Lab 2\r\n",
        "## DFT Computation"
      ]
    },
    {
      "cell_type": "markdown",
      "metadata": {
        "id": "7Glh_1-ycZYP"
      },
      "source": [
        "We start by importing numpy, a python library that deals with numbers and has high compatibility with matrices."
      ]
    },
    {
      "cell_type": "code",
      "metadata": {
        "id": "mAt1s2mJu8G7"
      },
      "source": [
        "import numpy as np"
      ],
      "execution_count": null,
      "outputs": []
    },
    {
      "cell_type": "markdown",
      "metadata": {
        "id": "RFu_sKo5ZZIs"
      },
      "source": [
        "We initialize the 2 arrays with zeros, each entry having a datatype complex, indicating that the matrix contains complex number elements."
      ]
    },
    {
      "cell_type": "code",
      "metadata": {
        "id": "FhpZDGCbNcph"
      },
      "source": [
        "fft_basis = np.zeros((4,4), dtype=complex)\r\n",
        "ift_basis = np.zeros((4,4), dtype=complex)"
      ],
      "execution_count": null,
      "outputs": []
    },
    {
      "cell_type": "markdown",
      "metadata": {
        "id": "rAnEzP6WdtuB"
      },
      "source": [
        "### Q1. Compute the basis vectors of the forward 1D DFT for N=4"
      ]
    },
    {
      "cell_type": "markdown",
      "metadata": {
        "id": "tC6J4P5kd6vE"
      },
      "source": [
        "For each n and k in (0, N) and (0, N) we find the basis value\r\n",
        "\r\n",
        "```\r\n",
        "exp(-j 2pi kn/N)\r\n",
        "```\r\n",
        "this 2D matrix is the required basis vector\r\n"
      ]
    },
    {
      "cell_type": "code",
      "metadata": {
        "colab": {
          "base_uri": "https://localhost:8080/"
        },
        "id": "tmKDfSvUby5O",
        "outputId": "b6726817-bd2d-4ba8-e9b3-f0ce20d0ab11"
      },
      "source": [
        "for n in range(4):\r\n",
        "  for k in range(4):\r\n",
        "    fft_basis[n][k] = np.exp(-1j*2*np.pi*k*n/4)\r\n",
        "print(fft_basis)"
      ],
      "execution_count": null,
      "outputs": [
        {
          "output_type": "stream",
          "text": [
            "[[ 1.0000000e+00+0.0000000e+00j  1.0000000e+00+0.0000000e+00j\n",
            "   1.0000000e+00+0.0000000e+00j  1.0000000e+00+0.0000000e+00j]\n",
            " [ 1.0000000e+00+0.0000000e+00j  6.1232340e-17-1.0000000e+00j\n",
            "  -1.0000000e+00-1.2246468e-16j -1.8369702e-16+1.0000000e+00j]\n",
            " [ 1.0000000e+00+0.0000000e+00j -1.0000000e+00-1.2246468e-16j\n",
            "   1.0000000e+00+2.4492936e-16j -1.0000000e+00-3.6739404e-16j]\n",
            " [ 1.0000000e+00+0.0000000e+00j -1.8369702e-16+1.0000000e+00j\n",
            "  -1.0000000e+00-3.6739404e-16j  5.5109106e-16-1.0000000e+00j]]\n"
          ],
          "name": "stdout"
        }
      ]
    },
    {
      "cell_type": "markdown",
      "metadata": {
        "id": "P_OTmIERfa4y"
      },
      "source": [
        "### Q2. Compute the basis vectors of the inverse 1D DFT for N=4\r\n"
      ]
    },
    {
      "cell_type": "markdown",
      "metadata": {
        "id": "R_p2VbGufevj"
      },
      "source": [
        "Similar to the above case, \r\n",
        "For each n and k in (0, N) and (0, N) we find the basis value\r\n",
        "\r\n",
        "```\r\n",
        "exp(+j 2pi kn/N)\r\n",
        "```\r\n",
        "this 2D matrix is the required basis vector\r\n"
      ]
    },
    {
      "cell_type": "code",
      "metadata": {
        "colab": {
          "base_uri": "https://localhost:8080/"
        },
        "id": "FdiMrcHkb5b5",
        "outputId": "dcae1c19-da48-4373-ff0f-f0d92aeba0fb"
      },
      "source": [
        "for n in range(4):\r\n",
        "  for k in range(4):\r\n",
        "    ift_basis[n][k] = np.exp(1j*2*np.pi*k*n/4)\r\n",
        "print(ift_basis)"
      ],
      "execution_count": null,
      "outputs": [
        {
          "output_type": "stream",
          "text": [
            "[[ 1.0000000e+00+0.0000000e+00j  1.0000000e+00+0.0000000e+00j\n",
            "   1.0000000e+00+0.0000000e+00j  1.0000000e+00+0.0000000e+00j]\n",
            " [ 1.0000000e+00+0.0000000e+00j  6.1232340e-17+1.0000000e+00j\n",
            "  -1.0000000e+00+1.2246468e-16j -1.8369702e-16-1.0000000e+00j]\n",
            " [ 1.0000000e+00+0.0000000e+00j -1.0000000e+00+1.2246468e-16j\n",
            "   1.0000000e+00-2.4492936e-16j -1.0000000e+00+3.6739404e-16j]\n",
            " [ 1.0000000e+00+0.0000000e+00j -1.8369702e-16-1.0000000e+00j\n",
            "  -1.0000000e+00+3.6739404e-16j  5.5109106e-16+1.0000000e+00j]]\n"
          ],
          "name": "stdout"
        }
      ]
    },
    {
      "cell_type": "markdown",
      "metadata": {
        "id": "mRcHoBVzfoIV"
      },
      "source": [
        "### Q3. Consider a sequence ```f(x) = [2, 3, 4, 4]```. Find the DFT of f(x)."
      ]
    },
    {
      "cell_type": "markdown",
      "metadata": {
        "id": "SDgMwOhufq8d"
      },
      "source": [
        "Finally, using the given f(x) and the basis vector we found, we can calculate the fft using\r\n",
        "\r\n",
        "\r\n",
        "```\r\n",
        "F(x) = 1/N * B.f(x)\r\n",
        "```\r\n",
        "where N is the number of discrete points(here 4), f is the column vector of the given discrete function, B is the basis vector and . is the dot operator for matrix multiplication\r\n"
      ]
    },
    {
      "cell_type": "code",
      "metadata": {
        "colab": {
          "base_uri": "https://localhost:8080/"
        },
        "id": "RQX4jm7NTxxD",
        "outputId": "2e38d887-1a45-460e-8fcd-ce9081fc71c5"
      },
      "source": [
        "f = [2, 3, 4, 4]\r\n",
        "\r\n",
        "print(1/4 * np.dot(fft_basis, np.transpose(f)))"
      ],
      "execution_count": 70,
      "outputs": [
        {
          "output_type": "stream",
          "text": [
            "[ 3.25+0.0000000e+00j -0.5 +2.5000000e-01j -0.25-2.1431319e-16j\n",
            " -0.5 -2.5000000e-01j]\n"
          ],
          "name": "stdout"
        }
      ]
    },
    {
      "cell_type": "markdown",
      "metadata": {
        "id": "hb_Sr8kUgFUP"
      },
      "source": [
        "Finally, to verify the calculated values, we use the built in function from numpy"
      ]
    },
    {
      "cell_type": "code",
      "metadata": {
        "colab": {
          "base_uri": "https://localhost:8080/"
        },
        "id": "A2u_FpF_ZiQ2",
        "outputId": "1f29aa16-80ef-4ac7-9ddf-b46c0e171e0e"
      },
      "source": [
        "np.fft.fft(f)/4"
      ],
      "execution_count": 71,
      "outputs": [
        {
          "output_type": "execute_result",
          "data": {
            "text/plain": [
              "array([ 3.25+0.j  , -0.5 +0.25j, -0.25+0.j  , -0.5 -0.25j])"
            ]
          },
          "metadata": {
            "tags": []
          },
          "execution_count": 71
        }
      ]
    }
  ]
}