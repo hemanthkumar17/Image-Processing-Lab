{
  "nbformat": 4,
  "nbformat_minor": 0,
  "metadata": {
    "colab": {
      "name": "IP Lab cheatsheet Drive copy.ipynb",
      "provenance": [],
      "authorship_tag": "ABX9TyOPDpT199MAnAfDccejUywQ",
      "include_colab_link": true
    },
    "kernelspec": {
      "name": "python3",
      "display_name": "Python 3"
    }
  },
  "cells": [
    {
      "cell_type": "markdown",
      "metadata": {
        "id": "view-in-github",
        "colab_type": "text"
      },
      "source": [
        "<a href=\"https://colab.research.google.com/github/hemanthkumar17/Image-Processing-Lab/blob/main/IP_Lab_cheatsheet.ipynb\" target=\"_parent\"><img src=\"https://colab.research.google.com/assets/colab-badge.svg\" alt=\"Open In Colab\"/></a>"
      ]
    },
    {
      "cell_type": "code",
      "metadata": {
        "id": "z9AaXcIW6fUM"
      },
      "source": [
        "import numpy as np\n",
        "import matplotlib.pyplot as plt"
      ],
      "execution_count": null,
      "outputs": []
    },
    {
      "cell_type": "markdown",
      "metadata": {
        "id": "NWTbUn-uT2-x"
      },
      "source": [
        "### Transforms"
      ]
    },
    {
      "cell_type": "code",
      "metadata": {
        "id": "L7J-jtUCNm6w"
      },
      "source": [
        "def fft1d(m):\n",
        "  fft1d = np.zeros([m, m], dtype=complex)\n",
        "  for u in range(m):\n",
        "    for x in range(m):\n",
        "      fft1d[u][x] = np.round(np.exp(-1j*2*np.pi*x*u/m), 10)\n",
        "  ifft1d = np.conj(fft1d)\n",
        "  return fft1d, ifft1d"
      ],
      "execution_count": null,
      "outputs": []
    },
    {
      "cell_type": "code",
      "metadata": {
        "id": "tb2L27lxSdTX"
      },
      "source": [
        "def dct1d(N):\n",
        "  dct_d = np.zeros([N, N])\n",
        "\n",
        "  for k in range(N):\n",
        "    for n in range(N):\n",
        "      dct_d[k, n] = np.cos(np.pi*((n+0.5)/N * k))\n",
        "  return dct_d"
      ],
      "execution_count": null,
      "outputs": []
    },
    {
      "cell_type": "code",
      "metadata": {
        "id": "DAQMgYS6N2Mb"
      },
      "source": [
        "def walsh1d(N):\n",
        "  def getBinaries(n):\n",
        "    binary = [int(x) for x in bin(n)[2:]]\n",
        "    return [0]*(int(np.log2(N))-len(binary)) + binary\n",
        "  G1d = np.zeros([N, N])\n",
        "  for x in range(N):\n",
        "    for u in range(N):\n",
        "      bx = getBinaries(x)\n",
        "      bu = getBinaries(u)\n",
        "      G1d[x, u] = (-1) ** sum(np.multiply(bx, bu[::-1]))\n",
        "  return G1d"
      ],
      "execution_count": null,
      "outputs": []
    },
    {
      "cell_type": "code",
      "metadata": {
        "id": "EyHRZDV_N7VR"
      },
      "source": [
        "def hadamard1d(N):\n",
        "  def getBinaries(n):\n",
        "    binary = [int(x) for x in bin(n)[2:]]\n",
        "    return [0]*(int(np.log2(N))-len(binary)) + binary\n",
        "  H1d = np.zeros([N, N])\n",
        "  for x in range(N):\n",
        "    for u in range(N):\n",
        "      bx = getBinaries(x)\n",
        "      bu = getBinaries(u)\n",
        "      H1d[x, u] = (-1) ** sum(np.multiply(bx, bu))\n",
        "  return H1d"
      ],
      "execution_count": null,
      "outputs": []
    },
    {
      "cell_type": "code",
      "metadata": {
        "id": "EwrewZm4XVtz"
      },
      "source": [
        "def haar1DBasis(N):\n",
        "  val = np.zeros((N**2, 2))\n",
        "  for k in range(1, N**2):\n",
        "    val[k][0] = np.floor(np.log2(k))\n",
        "    val[k][1] = k - 2**val[k][0] + 1\n",
        "\n",
        "  haar1d = np.zeros((N, N))\n",
        "  haar1d[0] = [1] * N\n",
        "  for k in range(1, N):\n",
        "    for m in range(N):\n",
        "      t = m/N\n",
        "      p, q = val[k]\n",
        "      p2 = 2 ** p\n",
        "      print(k, t, p, q)\n",
        "      print((q - 0.5)/ p2, q/ p2, (q - 1)/ p2)\n",
        "      if t >= (q - 0.5)/ p2 and t < q/ p2:\n",
        "        haar1d[k, m] = -np.sqrt(p2)\n",
        "      elif t >= (q - 1)/ p2 and t < (q - 0.5)/ p2:\n",
        "        haar1d[k, m] = np.sqrt(p2)\n",
        "  return haar1d"
      ],
      "execution_count": null,
      "outputs": []
    },
    {
      "cell_type": "markdown",
      "metadata": {
        "id": "e3GWXvdOT6gJ"
      },
      "source": [
        "### Convolution"
      ]
    },
    {
      "cell_type": "code",
      "metadata": {
        "id": "LoX0wygE9cHS"
      },
      "source": [
        "def convolve_2D(image, kernel):\n",
        "    return ccorrelation_2d(image, np.flipud(np.fliplr(kernel)))\n",
        "\n",
        "def ccorrelation_2d(image, kernel):\n",
        "    paddingl = kernel.shape[0] - 1\n",
        "    paddingu = kernel.shape[1] - 1\n",
        "    # Shape of Output Convolution\n",
        "    xOutput = int(((image.shape[0] - kernel.shape[0] + 2 * paddingl) ) + 1)\n",
        "    yOutput = int(((image.shape[1] - kernel.shape[1] + 2 * paddingu) ) + 1)\n",
        "    output = np.zeros((xOutput, yOutput))\n",
        "\n",
        "    # Apply Equal Padding to All Sides\n",
        "    imagePadded = np.pad(image, ((paddingl, paddingl), (paddingu, paddingu)))\n",
        "    print(imagePadded)\n",
        "\n",
        "    # Iterate through image\n",
        "    for y in range(yOutput):\n",
        "        for x in range(xOutput):\n",
        "            output[x, y] = np.sum(kernel * imagePadded[x: x + kernel.shape[0], y: y + kernel.shape[1]])\n",
        "    return output"
      ],
      "execution_count": null,
      "outputs": []
    },
    {
      "cell_type": "code",
      "metadata": {
        "colab": {
          "base_uri": "https://localhost:8080/"
        },
        "id": "WJnSLNXV90Lw",
        "outputId": "1fde89bd-a5de-439d-cfbb-14a22b9021e0"
      },
      "source": [
        "convolve_2D(np.array([[1, 2, 1], [1, 2, 1], [3, 3, 3]]), np.array([[1, 1], [-1, -1]]))"
      ],
      "execution_count": null,
      "outputs": [
        {
          "output_type": "stream",
          "text": [
            "[[0 0 0 0 0]\n",
            " [0 1 2 1 0]\n",
            " [0 1 2 1 0]\n",
            " [0 3 3 3 0]\n",
            " [0 0 0 0 0]]\n"
          ],
          "name": "stdout"
        },
        {
          "output_type": "execute_result",
          "data": {
            "text/plain": [
              "array([[ 1.,  3.,  3.,  1.],\n",
              "       [ 0.,  0.,  0.,  0.],\n",
              "       [ 2.,  3.,  3.,  2.],\n",
              "       [-3., -6., -6., -3.]])"
            ]
          },
          "metadata": {
            "tags": []
          },
          "execution_count": 48
        }
      ]
    },
    {
      "cell_type": "markdown",
      "metadata": {
        "id": "qnHqNgyxT8Pd"
      },
      "source": [
        "### Filters"
      ]
    },
    {
      "cell_type": "code",
      "metadata": {
        "colab": {
          "base_uri": "https://localhost:8080/"
        },
        "id": "rX2tfJh2934A",
        "outputId": "5cd6e9bf-8215-4e5a-f229-5d4e92e75795"
      },
      "source": [
        "robertsFilterx = np.array([[1, 0], [0, -1]])\n",
        "robertsFiltery = np.flipud(robertsFilterx).transpose()\n",
        "\n",
        "sobelFilterx = np.array([[-1, 0, 1], [-2, 0, 2], [-1, 0, 1]])\n",
        "sobelFiltery = np.flipud(sobelFilterx).transpose()\n",
        "\n",
        "prewittFilterx = np.array([[-1, 0, 1]]*3)\n",
        "prewittFiltery = np.flipud(prewittFilterx).transpose()\n",
        "print(prewittFiltery)"
      ],
      "execution_count": null,
      "outputs": [
        {
          "output_type": "stream",
          "text": [
            "[[-1 -1 -1]\n",
            " [ 0  0  0]\n",
            " [ 1  1  1]]\n"
          ],
          "name": "stdout"
        }
      ]
    },
    {
      "cell_type": "markdown",
      "metadata": {
        "id": "VfH7RdtmUAsK"
      },
      "source": [
        "### Hist Equalization"
      ]
    },
    {
      "cell_type": "code",
      "metadata": {
        "id": "k6-lR-6eFc9L"
      },
      "source": [
        "def histEqualization(img, max):\n",
        "  hist, _ = np.histogram(img.flatten(), bins=range(np.max(img) + 2))\n",
        "  pdf = hist / (img.shape[0] * img.shape[1])\n",
        "  cdf = np.zeros(np.max(img) + 2)\n",
        "  for i in range(np.max(img) + 1):\n",
        "    cdf[i] = cdf[i-1] + pdf[i]\n",
        "    cdf[i] = 1 if cdf[i] > 1 else cdf[i]\n",
        "  cdf = cdf * max\n",
        "  cdf = np.floor(cdf)\n",
        "  new_image = np.zeros(img.shape)\n",
        "  for i in range(img.shape[0]):\n",
        "    for j in range(img.shape[1]):\n",
        "      new_image[i, j] = cdf[img[i, j]]\n",
        "  return new_image, cdf"
      ],
      "execution_count": null,
      "outputs": []
    },
    {
      "cell_type": "code",
      "metadata": {
        "colab": {
          "base_uri": "https://localhost:8080/"
        },
        "id": "p7DMYgG2NDSj",
        "outputId": "ec8fab44-5fe2-44f0-be49-5062101d603c"
      },
      "source": [
        "img = np.array([[3, 2, 4, 5], [7, 7, 8, 2], [3, 1, 2, 3], [5, 4, 6, 7]])\n",
        "print(histEqualization(img, 20))"
      ],
      "execution_count": null,
      "outputs": [
        {
          "output_type": "stream",
          "text": [
            "(array([[ 8.,  5., 11., 13.],\n",
            "       [18., 18., 20.,  5.],\n",
            "       [ 8.,  1.,  5.,  8.],\n",
            "       [13., 11., 15., 18.]]), array([ 0.,  1.,  5.,  8., 11., 13., 15., 18., 20.,  0.]))\n"
          ],
          "name": "stdout"
        }
      ]
    },
    {
      "cell_type": "markdown",
      "metadata": {
        "id": "GGp5Xw5hUES7"
      },
      "source": [
        "### Hist Specialization"
      ]
    },
    {
      "cell_type": "code",
      "metadata": {
        "id": "lJfypr80BsZG"
      },
      "source": [
        "def histSpecialisation(origImage, targetImage):\n",
        "  equal1 = histEqualization(origImage)[1]\n",
        "  equal2 = histEqualization(targetImage)[1]\n",
        "  return list(map(lambda eq1val: np.where(equal2 >= eq1val)[0][0], equal1))"
      ],
      "execution_count": null,
      "outputs": []
    },
    {
      "cell_type": "markdown",
      "metadata": {
        "id": "CApGem04UGC9"
      },
      "source": [
        "### Image clipping"
      ]
    },
    {
      "cell_type": "code",
      "metadata": {
        "id": "AYjLyCShOxsI"
      },
      "source": [
        "def imgClip(img, thresh):\n",
        "  img[img<thresh] = 0\n",
        "  return img\n",
        "def imgWindow(img, window):\n",
        "  img[img>window] = 0\n",
        "  return img"
      ],
      "execution_count": null,
      "outputs": []
    },
    {
      "cell_type": "markdown",
      "metadata": {
        "id": "1P1xVoXXUIA7"
      },
      "source": [
        "### 4 Filters - avg, med, min, max"
      ]
    },
    {
      "cell_type": "code",
      "metadata": {
        "id": "B5qjbGCKXxyZ"
      },
      "source": [
        "def avgFilter(img):\n",
        "  mask = np.ones([3, 3], dtype=int)/9\n",
        "  avg_image = np.zeros(img.shape)\n",
        "  for i in range(1, img.shape[0]-1):\n",
        "    for j in range(1, img.shape[1]-1):\n",
        "      for p in range(-1, 2):\n",
        "        for q in range(-1, 2):\n",
        "          avg_image[i, j] = avg_image[i, j] + img[i+p, j+q] * mask[p, q]\n",
        "  return avg_image"
      ],
      "execution_count": null,
      "outputs": []
    },
    {
      "cell_type": "code",
      "metadata": {
        "id": "JePWmk1RFffp"
      },
      "source": [
        "def medFilter(img):\n",
        "  med_image = np.zeros(img.shape)\n",
        "  for i in range(1, img.shape[0]-1):\n",
        "    for j in range(1, img.shape[1]-1):\n",
        "      temp = []\n",
        "      for p in range(-1, 2):\n",
        "        for q in range(-1, 2):\n",
        "          temp = temp + [img[i+p, j+q]]\n",
        "      med_image[i, j] = sorted(temp)[4]\n",
        "  return med_image"
      ],
      "execution_count": null,
      "outputs": []
    },
    {
      "cell_type": "code",
      "metadata": {
        "id": "rzgAFkohFifl"
      },
      "source": [
        "def minFilter(img):\n",
        "  min_image = np.zeros(img.shape)\n",
        "  for i in range(1, img.shape[0]-1):\n",
        "    for j in range(1, img.shape[1]-1):\n",
        "      temp = []\n",
        "      for p in range(-1, 2):\n",
        "        for q in range(-1, 2):\n",
        "          temp = temp + [img[i+p, j+q]]\n",
        "      min_image[i, j] = min(temp)\n",
        "  return min_image"
      ],
      "execution_count": null,
      "outputs": []
    },
    {
      "cell_type": "code",
      "metadata": {
        "id": "Ofr87knkFjsy"
      },
      "source": [
        "def maxFilter(img):\n",
        "  max_image = np.zeros(img.shape)\n",
        "  for i in range(1, img.shape[0]-1):\n",
        "    for j in range(1, img.shape[1]-1):\n",
        "      temp = []\n",
        "      for p in range(-1, 2):\n",
        "        for q in range(-1, 2):\n",
        "          temp = temp + [img[i+p, j+q]]\n",
        "      max_image[i, j] = max(temp)\n",
        "  return max_image"
      ],
      "execution_count": null,
      "outputs": []
    },
    {
      "cell_type": "markdown",
      "metadata": {
        "id": "Tot4a7JPUooJ"
      },
      "source": [
        "### Automatic Thresholding"
      ]
    },
    {
      "cell_type": "code",
      "metadata": {
        "id": "qPNsqfPAVPai"
      },
      "source": [
        "def autoThresh(img):\n",
        "  T = img.mean()\n",
        "  Tprev = 500\n",
        "  while abs(T - Tprev) >= 1:\n",
        "    A1 = img[img > T].mean()\n",
        "    A2 = img[img <= T].mean()\n",
        "    Tprev = T\n",
        "    T = (A1 + A2) / 2\n",
        "  print(T)\n",
        "  return T"
      ],
      "execution_count": null,
      "outputs": []
    },
    {
      "cell_type": "markdown",
      "metadata": {
        "id": "RZojXCKWUN5E"
      },
      "source": [
        "### OTSU Thresh"
      ]
    },
    {
      "cell_type": "code",
      "metadata": {
        "id": "xmw0VRR9Fk1g"
      },
      "source": [
        "def otsuThresh(img):\n",
        "  hist, _ = np.histogram(img.flatten(), bins=range(257))\n",
        "  pdf = hist / (img.shape[0] * img.shape[1])\n",
        "\n",
        "  cdf = np.zeros(256)\n",
        "  wcdf = np.zeros(256)\n",
        "  w2cdf = np.zeros(256)\n",
        "\n",
        "  cdf[0] = pdf[0]\n",
        "  for i in range(1, 256):\n",
        "    cdf[i] = cdf[i-1] + pdf[i]\n",
        "    wcdf[i] = wcdf[i-1] + i * pdf[i]\n",
        "    w2cdf[i] = w2cdf[i-1] + i * i * pdf[i]\n",
        "\n",
        "  meang = wcdf[255]\n",
        "  max = -1\n",
        "  k_min = 0\n",
        "  invar_min = 10000\n",
        "  for k in range(256):\n",
        "\n",
        "    # p0 = cdf[k]\n",
        "    # p1 = 1 - p0\n",
        "    p = np.array([cdf[k], 1 - cdf[k]])\n",
        "    \n",
        "    # w0 = wcdf[k]\n",
        "    # w1 = wcdf[255] - w0\n",
        "    w = np.array([wcdf[k], wcdf[255] - wcdf[k]])\n",
        "\n",
        "    # w20 = w2cdf[k]\n",
        "    # w21 = w2cdf[255] - w20\n",
        "    w2 = np.array([w2cdf[k], w2cdf[255] - w2cdf[k]])\n",
        "\n",
        "    if not min(p):\n",
        "      continue\n",
        "\n",
        "    # mean0 = w0 / p0\n",
        "    # mean1 = w1 / p1\n",
        "    mean = w / p\n",
        "    \n",
        "    # var0 = w20 / p0 - mean0 ** 2\n",
        "    # var1 = w21 / p1 - mean1 ** 2\n",
        "    var = w2/p - mean ** 2\n",
        "\n",
        "    # invar = p0 * var0 + p1 * var1\n",
        "    invar = np.sum(p * var)\n",
        "\n",
        "    if invar < invar_min:\n",
        "      invar_min = invar\n",
        "      k_min = k\n",
        "\n",
        "  print(icvar_min)\n",
        "  print(k_min)\n",
        "\n",
        "  img[img < k_min] = 0\n",
        "  img[img != 0] = 255\n",
        "  # print(k_min)\n",
        "  return img"
      ],
      "execution_count": null,
      "outputs": []
    },
    {
      "cell_type": "markdown",
      "metadata": {
        "id": "K2wVcaJyUQvT"
      },
      "source": [
        "### Bitplane Slicing"
      ]
    },
    {
      "cell_type": "code",
      "metadata": {
        "id": "IHNd1oe8unPU"
      },
      "source": [
        "def bitPlaneSlicing(img):\n",
        "  bitSlicedImage = np.zeros([img.shape[0], img.shape[1], 9])\n",
        "  for i in range(img.shape[0]):\n",
        "    for j in range(img.shape[1]):\n",
        "      binary = (np.binary_repr(img[i][j] ,width=8)) # width = no. of bits\n",
        "      for bit in range(8):\n",
        "        bitSlicedImage[i, j, 8-bit] = int(binary[bit]) * (2 ** (7-bit))\n",
        "  print(bitSlicedImage.shape)\n",
        "  fig = plt.figure(figsize=(20, 10))\n",
        "  for i in range(8):\n",
        "    plt.subplot(2, 4, i+1)\n",
        "    plt.imshow(bitSlicedImage[:, :, 8-i], cmap=\"gray\", vmax=255, vmin=0)"
      ],
      "execution_count": null,
      "outputs": []
    },
    {
      "cell_type": "markdown",
      "metadata": {
        "id": "lWFDgaZhUSq9"
      },
      "source": [
        "### Huffman Coding"
      ]
    },
    {
      "cell_type": "code",
      "metadata": {
        "id": "Eo5_-hmXMT0T"
      },
      "source": [
        "class Node:\n",
        "  def __init__(self, frequency, char = None, left=None, right=None):\n",
        "    self.left = left\n",
        "    self.right = right\n",
        "    self.frequency = frequency\n",
        "    self.char = char\n",
        "    self.direction = \"\"\n",
        "\n",
        "  def printNode(self, val=\"\"):\n",
        "    newVal = val + str(self.direction)\n",
        "    if self.left:\n",
        "      self.left.printNode(newVal)\n",
        "    if self.right:\n",
        "      self.right.printNode(newVal)\n",
        "    if not self.left and not self.right:\n",
        "      print(f\"{self.char}: {newVal}\")\n",
        "\n",
        "\n",
        "def HuffmanCoding(code):\n",
        "  frequency = dict()\n",
        "\n",
        "  for char in code:\n",
        "    if char not in frequency.keys():\n",
        "      frequency[char] =  0\n",
        "    frequency[char] += 1\n",
        "\n",
        "  queue = [Node(freq, char) for char, freq in sorted(frequency.items(), key=lambda item: item[1])]\n",
        "\n",
        "  while len(queue) > 1:\n",
        "    left = queue.pop(0)\n",
        "    right = queue.pop(0)\n",
        "\n",
        "    left.direction = \"0\"\n",
        "    right.direction = \"1\"\n",
        "    queue.append(Node(left.frequency+right.frequency, left.char+right.char, left, right))\n",
        "\n",
        "    queue = sorted(queue, key= lambda x: x.frequency)\n",
        "  root = queue[0]\n",
        "  encodings = {x:y for x, y in queue[0].printNode()}\n",
        "  print(code)\n",
        "  encoded = \"\"\n",
        "  for char in code:\n",
        "    encoded += encodings[char]\n",
        "  return encoded"
      ],
      "execution_count": null,
      "outputs": []
    },
    {
      "cell_type": "markdown",
      "metadata": {
        "id": "wqioZ5MTUXAy"
      },
      "source": [
        "### Arithmetic Encoding"
      ]
    },
    {
      "cell_type": "code",
      "metadata": {
        "id": "clkef01cTqDS"
      },
      "source": [
        "def seqCode(seqstrip, lb, ub, prob, code):\n",
        "  if not seqstrip:\n",
        "    return (round(lb, 7), round(ub, 7))\n",
        "  print(\"Sequencestrip\\n\" + seqstrip + \"\\nWith lower bound and upper bound\")\n",
        "  print(round(lb, 7), round(ub))\n",
        "  curr = seqstrip[0]\n",
        "  seqstrip = seqstrip[1:]\n",
        "  newrange = ub - lb\n",
        "  cprob = prob.cumsum()\n",
        "  if not code[curr]:\n",
        "    new_lb = lb\n",
        "  else:\n",
        "    new_lb = lb + newrange * cprob[code[curr] - 1]\n",
        "  new_ub = lb + newrange * cprob[code[curr]]\n",
        "  return seqCode(seqstrip, new_lb, new_ub, prob, code)\n",
        "\n",
        "def arithEncoding(seq, codelen = 5):\n",
        "  code = {}\n",
        "  i = 0\n",
        "  for c in seq:\n",
        "    if c not in code:\n",
        "      code[c] = i\n",
        "      i += 1\n",
        "  freq = np.zeros(len(set(seq)))\n",
        "  for x in seq:\n",
        "    freq[code[x]] += 1\n",
        "  prob = freq / len(seq)\n",
        "\n",
        "  encoding = []\n",
        "  for i in range(len(seq) // codelen):\n",
        "    e = seqCode(seq[i*codelen: (i+1)*codelen], 0, 1, prob, code)\n",
        "    print(\"\\nEncoding of strip \" + seq[i*codelen: (i+1)*codelen] + \": \")\n",
        "    print(e)\n",
        "    print()\n",
        "    encoding.append(e)\n",
        "  for e in encoding:\n",
        "    print(e)\n",
        "  return encoding"
      ],
      "execution_count": null,
      "outputs": []
    },
    {
      "cell_type": "markdown",
      "metadata": {
        "id": "TCL6TpK4UlXP"
      },
      "source": [
        "### Region Growing"
      ]
    },
    {
      "cell_type": "code",
      "metadata": {
        "id": "9hApHK9gUnie"
      },
      "source": [
        "class Point(object):\n",
        " def __init__(self,x,y):\n",
        "  self.x = x\n",
        "  self.y = y\n",
        "\n",
        "def regionGrow(img, seed, thresh,p = 1):\n",
        " height, weight = img.shape\n",
        " visited = np.zeros(img.shape)\n",
        " queue = []\n",
        " queue.append(seed)\n",
        " growthpixels = [Point(-1, -1), Point(0, -1), Point(1, -1), Point(1, 0), Point(1, 1), Point(0, 1), Point(-1, 1), Point(-1, 0)]\n",
        " \n",
        " while queue:\n",
        "  currentPoint = queue.pop(0)\n",
        "  visited[currentPoint.x,currentPoint.y] = 1\n",
        "  for i in range(8):\n",
        "   tmpX = currentPoint.x + growthpixels[i].x\n",
        "   tmpY = currentPoint.y + growthpixels[i].y\n",
        "   if tmpX < 0 or tmpY < 0 or tmpX >= height or tmpY >= weight:\n",
        "    continue\n",
        "   if abs(int(img[currentPoint.x,currentPoint.y]) - int(img[tmpX,tmpY])) < thresh and visited[tmpX,tmpY] == 0:\n",
        "    visited[tmpX,tmpY] = 1\n",
        "    queue.append(Point(tmpX,tmpY))\n",
        " return visited"
      ],
      "execution_count": null,
      "outputs": []
    },
    {
      "cell_type": "markdown",
      "metadata": {
        "id": "iM1ORHwpXUth"
      },
      "source": [
        "### Hough transform"
      ]
    },
    {
      "cell_type": "code",
      "metadata": {
        "id": "SJo3FIyBXW7g"
      },
      "source": [
        "def houghTransform(img, a_min=0, a_max=2, b_min=None, b_max=None):\n",
        "  a_min = 0\n",
        "  a_max = 2\n",
        "  x_max, y_max = img.shape[0]-1, img.shape[1]-1\n",
        "  if not b_max:\n",
        "    b_max = y_max - np.min(0, a_min * x_max)\n",
        "  if not b_min:\n",
        "    b_min = 0 - np.max(0, a_min * x_max)\n",
        "\n",
        "  acc = np.zeros([a_max - a_min, b_max - b_min + 1])\n",
        "\n",
        "  for x in range(x_max + 1):\n",
        "    for y in range(y_max + 1):\n",
        "      if img[x, y] != 0:\n",
        "        for a in range(a_min, a_max):\n",
        "          b = y - a * x\n",
        "          acc[a, b] += 1\n",
        "  return acc"
      ],
      "execution_count": null,
      "outputs": []
    }
  ]
}