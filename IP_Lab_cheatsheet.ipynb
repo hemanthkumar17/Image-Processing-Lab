{
  "nbformat": 4,
  "nbformat_minor": 0,
  "metadata": {
    "colab": {
      "name": "IP Lab cheatsheet.ipynb",
      "provenance": [],
      "authorship_tag": "ABX9TyNep4C/M3aEMGVe1RxAZPf4",
      "include_colab_link": true
    },
    "kernelspec": {
      "name": "python3",
      "display_name": "Python 3"
    }
  },
  "cells": [
    {
      "cell_type": "markdown",
      "metadata": {
        "id": "view-in-github",
        "colab_type": "text"
      },
      "source": [
        "<a href=\"https://colab.research.google.com/github/hemanthkumar17/Image-Processing-Lab/blob/main/IP_Lab_cheatsheet.ipynb\" target=\"_parent\"><img src=\"https://colab.research.google.com/assets/colab-badge.svg\" alt=\"Open In Colab\"/></a>"
      ]
    },
    {
      "cell_type": "code",
      "metadata": {
        "id": "z9AaXcIW6fUM"
      },
      "source": [
        "import numpy as np\n",
        "import matplotlib.pyplot as plt"
      ],
      "execution_count": null,
      "outputs": []
    },
    {
      "cell_type": "code",
      "metadata": {
        "id": "L7J-jtUCNm6w"
      },
      "source": [
        "def fft1d(m):\n",
        "  fft1d = np.zeros([m, m], dtype=complex)\n",
        "  for u in range(m):\n",
        "    for x in range(m):\n",
        "      fft1d[u][x] = np.round(np.exp(-1j*2*np.pi*x*u/m), 10)\n",
        "  ifft1d = np.conj(fft1d)\n",
        "  return fft1d, ifft1d"
      ],
      "execution_count": null,
      "outputs": []
    },
    {
      "cell_type": "code",
      "metadata": {
        "id": "tb2L27lxSdTX"
      },
      "source": [
        "def dct1d(N):\n",
        "  dct_d = np.zeros([N, N])\n",
        "\n",
        "  for k in range(N):\n",
        "    for n in range(N):\n",
        "      dct_d[k, n] = np.cos(np.pi*((n+0.5)/N * k))\n",
        "  return dct_d"
      ],
      "execution_count": null,
      "outputs": []
    },
    {
      "cell_type": "code",
      "metadata": {
        "id": "DAQMgYS6N2Mb"
      },
      "source": [
        "def walsh1d(N):\n",
        "  def getBinaries(n):\n",
        "    binary = [int(x) for x in bin(n)[2:]]\n",
        "    return [0]*(int(np.log2(N))-len(binary)+1) + binary\n",
        "  G1d = np.zeros([N, N])\n",
        "  for x in range(N):\n",
        "    for u in range(N):\n",
        "      bx = getBinaries(x)\n",
        "      bu = getBinaries(u)\n",
        "      G1d[x, u] = (-1) ** sum(np.multiply(bx, bu[::-1]))\n",
        "  return G1d"
      ],
      "execution_count": null,
      "outputs": []
    },
    {
      "cell_type": "code",
      "metadata": {
        "id": "EyHRZDV_N7VR"
      },
      "source": [
        "def hadamard1d(N):\n",
        "  def getBinaries(n):\n",
        "    binary = [int(x) for x in bin(n)[2:]]\n",
        "    return [0]*(int(np.log2(N))-len(binary)+1) + binary\n",
        "  H1d = np.zeros([N, N])\n",
        "  for x in range(N):\n",
        "    for u in range(N):\n",
        "      bx = getBinaries(x)\n",
        "      bu = getBinaries(u)\n",
        "      H1d[x, u] = (-1) ** sum(np.multiply(bx, bu))\n",
        "  return H1d"
      ],
      "execution_count": null,
      "outputs": []
    },
    {
      "cell_type": "code",
      "metadata": {
        "id": "EwrewZm4XVtz"
      },
      "source": [
        "def haar1DBasis(N):\n",
        "  val = np.zeros((N**2, 2))\n",
        "  for k in range(1, N**2):\n",
        "    val[k][0] = np.floor(np.log2(k))\n",
        "    val[k][1] = k - 2**val[k][0] + 1\n",
        "\n",
        "  haar1d = np.zeros((N, N))\n",
        "  haar1d[0] = [1] * N\n",
        "  for k in range(1, N):\n",
        "    for m in range(N):\n",
        "      t = m/N\n",
        "      p, q = val[k]\n",
        "      p2 = 2 ** p\n",
        "      print(k, t, p, q)\n",
        "      print((q - 0.5)/ p2, q/ p2, (q - 1)/ p2)\n",
        "      if t >= (q - 0.5)/ p2 and t < q/ p2:\n",
        "        haar1d[k, m] = -np.sqrt(p2)\n",
        "      elif t >= (q - 1)/ p2 and t < (q - 0.5)/ p2:\n",
        "        haar1d[k, m] = np.sqrt(p2)\n",
        "  return haar1d"
      ],
      "execution_count": null,
      "outputs": []
    },
    {
      "cell_type": "code",
      "metadata": {
        "id": "LoX0wygE9cHS"
      },
      "source": [
        "def convolve_2D(image, kernel):\n",
        "    return ccorrelation_2d(image, np.flipud(np.fliplr(kernel)))\n",
        "\n",
        "def ccorrelation_2d(image, kernel):\n",
        "    paddingl = kernel.shape[0] - 1\n",
        "    paddingu = kernel.shape[1] - 1\n",
        "    # Shape of Output Convolution\n",
        "    xOutput = int(((image.shape[0] - kernel.shape[0] + 2 * paddingl) ) + 1)\n",
        "    yOutput = int(((image.shape[1] - kernel.shape[1] + 2 * paddingu) ) + 1)\n",
        "    output = np.zeros((xOutput, yOutput))\n",
        "\n",
        "    # Apply Equal Padding to All Sides\n",
        "    imagePadded = np.pad(image, ((paddingl, paddingl), (paddingu, paddingu)))\n",
        "    print(imagePadded)\n",
        "\n",
        "    # Iterate through image\n",
        "    for y in range(yOutput):\n",
        "        for x in range(xOutput):\n",
        "            output[x, y] = np.sum(kernel * imagePadded[x: x + kernel.shape[0], y: y + kernel.shape[1]])\n",
        "    return output"
      ],
      "execution_count": null,
      "outputs": []
    },
    {
      "cell_type": "code",
      "metadata": {
        "colab": {
          "base_uri": "https://localhost:8080/"
        },
        "id": "WJnSLNXV90Lw",
        "outputId": "1fde89bd-a5de-439d-cfbb-14a22b9021e0"
      },
      "source": [
        "convolve_2D(np.array([[1, 2, 1], [1, 2, 1], [3, 3, 3]]), np.array([[1, 1], [-1, -1]]))"
      ],
      "execution_count": null,
      "outputs": [
        {
          "output_type": "stream",
          "text": [
            "[[0 0 0 0 0]\n",
            " [0 1 2 1 0]\n",
            " [0 1 2 1 0]\n",
            " [0 3 3 3 0]\n",
            " [0 0 0 0 0]]\n"
          ],
          "name": "stdout"
        },
        {
          "output_type": "execute_result",
          "data": {
            "text/plain": [
              "array([[ 1.,  3.,  3.,  1.],\n",
              "       [ 0.,  0.,  0.,  0.],\n",
              "       [ 2.,  3.,  3.,  2.],\n",
              "       [-3., -6., -6., -3.]])"
            ]
          },
          "metadata": {
            "tags": []
          },
          "execution_count": 48
        }
      ]
    },
    {
      "cell_type": "code",
      "metadata": {
        "colab": {
          "base_uri": "https://localhost:8080/"
        },
        "id": "rX2tfJh2934A",
        "outputId": "5cd6e9bf-8215-4e5a-f229-5d4e92e75795"
      },
      "source": [
        "robertsFilterx = np.array([[1, 0], [0, -1]])\n",
        "robertsFiltery = np.flipud(robertsFilterx).transpose()\n",
        "\n",
        "sobelFilterx = np.array([[-1, 0, 1], [-2, 0, 2], [-1, 0, 1]])\n",
        "sobelFiltery = np.flipud(sobelFilterx).transpose()\n",
        "\n",
        "prewittFilterx = np.array([[-1, 0, 1]]*3)\n",
        "prewittFiltery = np.flipud(prewittFilterx).transpose()\n",
        "print(prewittFiltery)"
      ],
      "execution_count": null,
      "outputs": [
        {
          "output_type": "stream",
          "text": [
            "[[-1 -1 -1]\n",
            " [ 0  0  0]\n",
            " [ 1  1  1]]\n"
          ],
          "name": "stdout"
        }
      ]
    },
    {
      "cell_type": "code",
      "metadata": {
        "id": "k6-lR-6eFc9L"
      },
      "source": [
        "def histEqualization(img, max):\n",
        "  hist, _ = np.histogram(img.flatten(), bins=range(np.max(img) + 2))\n",
        "  pdf = hist / (img.shape[0] * img.shape[1])\n",
        "  cdf = np.zeros(np.max(img) + 2)\n",
        "  for i in range(np.max(img) + 1):\n",
        "    cdf[i] = cdf[i-1] + pdf[i]\n",
        "    cdf[i] = 1 if cdf[i] > 1 else cdf[i]\n",
        "  cdf = cdf * max\n",
        "  cdf = np.floor(cdf)\n",
        "  new_image = np.zeros(img.shape)\n",
        "  for i in range(img.shape[0]):\n",
        "    for j in range(img.shape[1]):\n",
        "      new_image[i, j] = cdf[img[i, j]]\n",
        "  return new_image, cdf"
      ],
      "execution_count": null,
      "outputs": []
    },
    {
      "cell_type": "code",
      "metadata": {
        "colab": {
          "base_uri": "https://localhost:8080/"
        },
        "id": "p7DMYgG2NDSj",
        "outputId": "ec8fab44-5fe2-44f0-be49-5062101d603c"
      },
      "source": [
        "img = np.array([[3, 2, 4, 5], [7, 7, 8, 2], [3, 1, 2, 3], [5, 4, 6, 7]])\n",
        "print(histEqualization(img, 20))"
      ],
      "execution_count": null,
      "outputs": [
        {
          "output_type": "stream",
          "text": [
            "(array([[ 8.,  5., 11., 13.],\n",
            "       [18., 18., 20.,  5.],\n",
            "       [ 8.,  1.,  5.,  8.],\n",
            "       [13., 11., 15., 18.]]), array([ 0.,  1.,  5.,  8., 11., 13., 15., 18., 20.,  0.]))\n"
          ],
          "name": "stdout"
        }
      ]
    },
    {
      "cell_type": "code",
      "metadata": {
        "id": "lJfypr80BsZG"
      },
      "source": [
        "def histSpecialisation(origImage, targetImage):\n",
        "  equal1 = histEqualization(origImage)[1]\n",
        "  equal2 = histEqualization(targetImage)[1]\n",
        "  return list(map(lambda eq1val: np.where(equal2 >= eq1val)[0][0], equal1))"
      ],
      "execution_count": null,
      "outputs": []
    },
    {
      "cell_type": "code",
      "metadata": {
        "id": "AYjLyCShOxsI"
      },
      "source": [
        "def imgClip(img, thresh):\n",
        "  img[img<thresh] = 0\n",
        "  return img\n",
        "def imgWindow(img, window):\n",
        "  img[img>window] = 0\n",
        "  return img"
      ],
      "execution_count": null,
      "outputs": []
    },
    {
      "cell_type": "code",
      "metadata": {
        "id": "B5qjbGCKXxyZ"
      },
      "source": [
        "def avgFilter(img):\n",
        "  mask = np.ones([3, 3], dtype=int)/9\n",
        "  avg_image = np.zeros(img.shape)\n",
        "  for i in range(1, img.shape[0]-1):\n",
        "    for j in range(1, img.shape[1]-1):\n",
        "      for p in range(-1, 2):\n",
        "        for q in range(-1, 2):\n",
        "          avg_image[i, j] = avg_image[i, j] + img[i+p, j+q] * mask[p, q]\n",
        "  return avg_image"
      ],
      "execution_count": null,
      "outputs": []
    },
    {
      "cell_type": "code",
      "metadata": {
        "id": "JePWmk1RFffp"
      },
      "source": [
        "def medFilter(img):\n",
        "  med_image = np.zeros(img.shape)\n",
        "  for i in range(1, img.shape[0]-1):\n",
        "    for j in range(1, img.shape[1]-1):\n",
        "      temp = []\n",
        "      for p in range(-1, 2):\n",
        "        for q in range(-1, 2):\n",
        "          temp = temp + [img[i+p, j+q]]\n",
        "      med_image[i, j] = sorted(temp)[4]\n",
        "  return med_image"
      ],
      "execution_count": null,
      "outputs": []
    },
    {
      "cell_type": "code",
      "metadata": {
        "id": "rzgAFkohFifl"
      },
      "source": [
        "def minFilter(img):\n",
        "  min_image = np.zeros(img.shape)\n",
        "  for i in range(1, img.shape[0]-1):\n",
        "    for j in range(1, img.shape[1]-1):\n",
        "      temp = []\n",
        "      for p in range(-1, 2):\n",
        "        for q in range(-1, 2):\n",
        "          temp = temp + [img[i+p, j+q]]\n",
        "      min_image[i, j] = min(temp)\n",
        "  return min_image"
      ],
      "execution_count": null,
      "outputs": []
    },
    {
      "cell_type": "code",
      "metadata": {
        "id": "Ofr87knkFjsy"
      },
      "source": [
        "def maxFilter(img):\n",
        "  max_image = np.zeros(img.shape)\n",
        "  for i in range(1, img.shape[0]-1):\n",
        "    for j in range(1, img.shape[1]-1):\n",
        "      temp = []\n",
        "      for p in range(-1, 2):\n",
        "        for q in range(-1, 2):\n",
        "          temp = temp + [img[i+p, j+q]]\n",
        "      max_image[i, j] = max(temp)\n",
        "  return max_image"
      ],
      "execution_count": null,
      "outputs": []
    },
    {
      "cell_type": "code",
      "metadata": {
        "id": "xmw0VRR9Fk1g"
      },
      "source": [
        "def otsuThresh(img):\n",
        "  # find normalized_histogram, and its cumulative distribution function\n",
        "  hist = cv2.calcHist([img], [0], None, [256], [0,256])\n",
        "  norm = hist.ravel() / hist.max()\n",
        "  Q = norm.cumsum()\n",
        "\n",
        "  bins = np.arange(256)\n",
        "  minval = np.inf\n",
        "  thresh = -1\n",
        "\n",
        "  for i in range(1,256):\n",
        "      prob1, prob2 = np.hsplit(norm, [i]) # probabilities\n",
        "\n",
        "      cumsum1, cumsum2 = Q[i], Q[255] - Q[i]    # cumulative sum of classes\n",
        "      if cumsum1 == 0 or cumsum2 == 0:\n",
        "        continue\n",
        "        \n",
        "      weight1, weight2 = np.hsplit(bins, [i]) # weights\n",
        "\n",
        "      # finding means\n",
        "      mean1, mean2 = np.sum(prob1 * weight1) / cumsum1, np.sum(prob2 * weight2) / cumsum2\n",
        "\n",
        "      # minimize the withinclass variance function\n",
        "      res = np.sum((weight1 - mean1) ** 2 * prob1) + np.sum((weight2 - mean2) ** 2 * prob2)\n",
        "      if res < minval:\n",
        "          minval = res\n",
        "          thresh = i\n",
        "  img[img < thresh] = 0\n",
        "  img[img != 0] = 255\n",
        "  print(thresh)\n",
        "  return img"
      ],
      "execution_count": null,
      "outputs": []
    },
    {
      "cell_type": "code",
      "metadata": {
        "id": "Eo5_-hmXMT0T"
      },
      "source": [
        "class Node:\n",
        "  def __init__(self, frequency, char = None, left=None, right=None):\n",
        "    self.left = left\n",
        "    self.right = right\n",
        "    self.frequency = frequency\n",
        "    self.char = char\n",
        "    self.direction = \"\"\n",
        "\n",
        "  def printNode(self, val=\"\"):\n",
        "    newVal = val + str(self.direction)\n",
        "    if self.left:\n",
        "      self.left.printNode(newVal)\n",
        "    if self.right:\n",
        "      self.right.printNode(newVal)\n",
        "    if not self.left and not self.right:\n",
        "      print(f\"{self.char}: {newVal}\")\n",
        "\n",
        "\n",
        "def HuffmanCoding(code):\n",
        "  frequency = dict()\n",
        "\n",
        "  for char in code:\n",
        "    if char not in frequency.keys():\n",
        "      frequency[char] =  0\n",
        "    frequency[char] += 1\n",
        "\n",
        "  queue = [Node(freq, char) for char, freq in sorted(frequency.items(), key=lambda item: item[1])]\n",
        "\n",
        "  while len(queue) > 1:\n",
        "    left = queue.pop(0)\n",
        "    right = queue.pop(0)\n",
        "\n",
        "    left.direction = \"0\"\n",
        "    right.direction = \"1\"\n",
        "    queue.append(Node(left.frequency+right.frequency, left.char+right.char, left, right))\n",
        "\n",
        "    queue = sorted(queue, key= lambda x: x.frequency)\n",
        "  root = queue[0]\n",
        "  encodings = {x:y for x, y in queue[0].printNode()}\n",
        "  print(code)\n",
        "  encoded = \"\"\n",
        "  for char in code:\n",
        "    encoded += encodings[char]\n",
        "  return encoded"
      ],
      "execution_count": null,
      "outputs": []
    }
  ]
}